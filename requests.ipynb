{
 "cells": [
  {
   "cell_type": "code",
   "execution_count": 79,
   "metadata": {},
   "outputs": [
    {
     "name": "stdout",
     "output_type": "stream",
     "text": [
      "Matched: 88\n",
      "No search result: 56\n",
      "Exceeded rate limit: 48\n",
      "88\n",
      "['McCormick Red 1 Pint Food Color', 'Folgers Classic Roast Regular Urn Coffee - 6.3 Oz.', 'Dickinsons Seedless Blackberry Preserves - 1 oz Jars', 'Welchs Grape Red Sparkling Juice - 24.5 Oz.', 'cup portion 1.5oz translucent (728544)', 'Beef Ground Chuck Angus B119 Fresh', 'Kraft Jello Americana Tapioca Pudding - 24 Oz. - 12 Pouches Per Case', 'Popcorn Cheddar Skinny Pack - 3.9 oz.', 'Eastern Bromley Decaffeinated Bags Tea - 1 Oz.', 'cup clear 16-18 oz flexible clear (1)', 'Monin Hazelnut Organic Flavored Syrup - 750 ml.', 'Flavor Fresh Mayonnaise Packet - 12 Gr.', 'Paper Pro Plates, 6in. Dia, Round, White', 'MUSTARD IND YELLOW 5.5 GRAM PACKET', 'Splenda No Calorie Sweetener Packet - 1 Grm.', 'Portion Pac Honey - 9 Grm.', 'Portion Pac Tartar Sauce - 9 Grm.', 'Gold Medal Restaurant Ground Black Pepper - 5 Pound', 'Black Pepper Pure Ground - 1 Lb.', 'Tomato Ketchup Dispenser Pouch - 1.5 Gal.', 'Paper Hot Dog White Medium Weight Tray - 6 in.', 'Sir Kensingtons Mayonnaise Squeeze Packets - 14 g.', 'towel roll disp nat\\'l 8\" universal', 'ea vinegar apple cider 50 grains', 'ea spice pepper black table grind 24 mesh', 'Njoy Blue Aspertame Sugar Substitute - 1 Gram', 'C&H Sugar Brown Light', 'Bobs Red Mill Tapioca Flour - 25 Lb.', 'Kelloggs Keebler Graham Cracker Crumbs - 25 Lb.', 'crumbs bread pankos style blue label', 'Foothill Farms Spaghetti and Pizza Sauce Mix - 11.25 Oz.', 'TISSUE TOILET 2PLY 1each', 'WINDSOR FORK DINNER MEDIUM WT.', 'Apple Walnut All Natural Oatmeal - 75 Gr.', 'EXTRACT PURE VANILLA 1lb', 'Monin Toasted Marshmallow Flavored Syrup - 1 Liter', 'VINEGAR BALSAMIC RED DEL DESTINO 1lb', 'Davinci Gourmet Arctic Lemonade Smoothies And Frozen Beverage Mix', 'SQUASH, SPAGHETTI EA 1lb', 'Pactiv EarthChoice Recycled Clear Plastic Cold Cup, 9 Ounce -- 975 per case', 'McCormick Spice Shaker Grind 5 Pound Black Pepper', 'McCormick Imitation Plastic 1 Pint Almond Extract', 'Elite Laminated Foam Plate White - 9 in.', 'HDOS POTSTICKER CHICKEN', 'Beef Ground Chuck Angus 81/19 Fresh', 'Ventura Foods Hidden Valley Golden Honey Mustard Dressing 1 Gallon', 'Orange Juice Concentrate 1each', 'DOUGH 7\" PIZZA PRESHEETED ROUND', 'MARASCHINO Cherries With Stem Case of 4 / 1 Gallon', 'Eastern Golden Tip Orange Pekoe Tea - 1 Oz.', 'CHUDLEIGHS CARAMEL APPLE BLOSSOMS', 'Single Hellmanns Real Ancho Chipotle Sauce Jug, 1 Gallon -- 1 each', 'BASE VEAL DEMI GLACE DE VEAU', 'BUTTER SOLID UNSALTED 83%', 'JUICE LEMON 100% RTU', 'McCormick Imitation Plastic 1 Quart Almond Extract']\n"
     ]
    }
   ],
   "source": [
    "pd.set_option('display.max_columns', None)  # or 1000\n",
    "pd.set_option('display.max_rows', None)  # or 1000\n",
    "pd.set_option('display.max_colwidth', None)  # or 199\n",
    "import json\n",
    "f = open('api/out (2)')\n",
    "items_list = json.load(f)\n",
    "\n",
    "found = []\n",
    "error_404 = []\n",
    "error_429 = []\n",
    "matched_names = []\n",
    "for k,v in items_list.items():\n",
    "    if type(v) is  list:\n",
    "        found.append(k)\n",
    "        matched_names.append(k)\n",
    "    if v == 429:\n",
    "        error_429.append(k)\n",
    "    if v == 404:\n",
    "        error_404.append(k)\n",
    "print('Matched:', len(found))\n",
    "print('No search result:', len(error_404))\n",
    "print('Exceeded rate limit:', len(error_429))\n",
    "print(len(matched_names))\n",
    "\n",
    "print(error_404)\n",
    "#print(items_list.keys())\n"
   ]
  },
  {
   "cell_type": "code",
   "execution_count": 76,
   "metadata": {},
   "outputs": [],
   "source": [
    "# Match back to matched.csv\n",
    "import pandas as pd\n",
    "random_df = pd.read_csv('api/random.csv', dtype=str)\n",
    "random_df = random_df[random_df['source_name'].isin(matched_names)].reset_index()\n",
    "random_df.drop_duplicates(keep=False, inplace=True)\n",
    "random_df.drop(random_df.columns[:2], axis=1, inplace=True)\n",
    "\n",
    "random_df.to_csv('api/matched_47.csv', index=False)"
   ]
  },
  {
   "cell_type": "code",
   "execution_count": 78,
   "metadata": {},
   "outputs": [],
   "source": [
    "# Explore available columns in data\n",
    "columns = ['source_name']\n",
    "\n",
    "for k,v in items_list.items():\n",
    "    if type(v) is list:\n",
    "        for _ in v:\n",
    "            for _k, _v in _.items():\n",
    "                if _k not in columns:\n",
    "                    columns.append(_k)\n",
    "\n",
    "# Create item list\n",
    "results = []\n",
    "for k,v in items_list.items():\n",
    "    if type(v) is list:\n",
    "        for _ in v:\n",
    "            default_dic = {}\n",
    "            for c in columns:\n",
    "                default_dic[c] = ''\n",
    "            default_dic['source_name'] = k\n",
    "            for _k, _v in _.items():\n",
    "                default_dic[_k] = _v\n",
    "            results.append(default_dic)\n",
    "enriched = pd.DataFrame(results)\n",
    "enriched['dest_UPC'] = 'UPC-' + enriched['upc']\n",
    "enriched.to_csv('api/enriched.csv', index=False)"
   ]
  },
  {
   "cell_type": "code",
   "execution_count": 82,
   "metadata": {},
   "outputs": [
    {
     "name": "stderr",
     "output_type": "stream",
     "text": [
      "/var/folders/rj/rrq458bj1mb9fpw62rmd9yb80000gn/T/ipykernel_52740/1823137753.py:4: DtypeWarning: Columns (17,18,19,22) have mixed types.Specify dtype option on import or set low_memory=False.\n",
      "  df_all_merged = productmatching.read_file_from_csv(base_folder + \"analytics/products\", \"all-merged.csv\")\n"
     ]
    },
    {
     "name": "stdout",
     "output_type": "stream",
     "text": [
      "read 68136  rows from aws/dev-dashy-refined-datasets/analytics/products all-merged.csv\n"
     ]
    }
   ],
   "source": [
    "# Get data for these names from all-merged\n",
    "import productmatching\n",
    "base_folder = 'aws/dev-dashy-refined-datasets/'\n",
    "df_all_merged = productmatching.read_file_from_csv(base_folder + \"analytics/products\", \"all-merged.csv\")\n",
    "df_all_merged = df_all_merged[df_all_merged['name'].isin(matched_names)].reset_index()\n",
    "#df_all_merged.to_csv('match_source.csv')"
   ]
  },
  {
   "cell_type": "code",
   "execution_count": null,
   "metadata": {},
   "outputs": [],
   "source": [
    "# Normalise enriched files to same format\n"
   ]
  },
  {
   "cell_type": "code",
   "execution_count": 62,
   "metadata": {},
   "outputs": [],
   "source": [
    "tmp = enriched.merge(random_df,how='inner',left_on=['source_name'],right_on=['source_name'])\n",
    "#tmp = tmp[['source_name', 'title', 'description', 'source_brand', 'source_pack_count', 'source_unit_size',\\\n",
    "#    'source_unit_measure','confidence','dest_UPC_x', 'dest_UPC_y' ]]\n",
    "tmp.to_csv('api/tmp.csv')\n"
   ]
  },
  {
   "cell_type": "code",
   "execution_count": 61,
   "metadata": {},
   "outputs": [],
   "source": [
    "tmp = enriched.merge(random_df,how='inner',left_on=['dest_UPC'],right_on=['dest_UPC'])\n",
    "tmp.to_csv('api/upc_matc.csv', index=False)\n"
   ]
  },
  {
   "cell_type": "code",
   "execution_count": 66,
   "metadata": {},
   "outputs": [
    {
     "data": {
      "text/plain": [
       "['source_name',\n",
       " 'ean',\n",
       " 'title',\n",
       " 'description',\n",
       " 'upc',\n",
       " 'brand',\n",
       " 'model',\n",
       " 'color',\n",
       " 'size',\n",
       " 'dimension',\n",
       " 'weight',\n",
       " 'category',\n",
       " 'currency',\n",
       " 'lowest_recorded_price',\n",
       " 'highest_recorded_price',\n",
       " 'images',\n",
       " 'offers',\n",
       " 'elid',\n",
       " 'asin',\n",
       " 'gtin']"
      ]
     },
     "execution_count": 66,
     "metadata": {},
     "output_type": "execute_result"
    }
   ],
   "source": [
    "columns"
   ]
  }
 ],
 "metadata": {
  "interpreter": {
   "hash": "bbfebc3f73dbbf16f9c58aa6923efdfb584a134391f2827f083ded2d0fd6d71e"
  },
  "kernelspec": {
   "display_name": "Python 3.9.7 64-bit ('my': conda)",
   "language": "python",
   "name": "python3"
  },
  "language_info": {
   "codemirror_mode": {
    "name": "ipython",
    "version": 3
   },
   "file_extension": ".py",
   "mimetype": "text/x-python",
   "name": "python",
   "nbconvert_exporter": "python",
   "pygments_lexer": "ipython3",
   "version": "3.9.7"
  },
  "orig_nbformat": 4
 },
 "nbformat": 4,
 "nbformat_minor": 2
}
